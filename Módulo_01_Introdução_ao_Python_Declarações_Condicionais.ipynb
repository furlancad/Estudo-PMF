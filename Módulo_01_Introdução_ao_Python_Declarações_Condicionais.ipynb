{
  "nbformat": 4,
  "nbformat_minor": 0,
  "metadata": {
    "colab": {
      "provenance": [],
      "include_colab_link": true
    },
    "kernelspec": {
      "name": "python3",
      "display_name": "Python 3"
    },
    "language_info": {
      "name": "python"
    }
  },
  "cells": [
    {
      "cell_type": "markdown",
      "metadata": {
        "id": "view-in-github",
        "colab_type": "text"
      },
      "source": [
        "<a href=\"https://colab.research.google.com/github/furlancad/Estudo-PMF/blob/main/M%C3%B3dulo_01_Introdu%C3%A7%C3%A3o_ao_Python_Declara%C3%A7%C3%B5es_Condicionais.ipynb\" target=\"_parent\"><img src=\"https://colab.research.google.com/assets/colab-badge.svg\" alt=\"Open In Colab\"/></a>"
      ]
    },
    {
      "cell_type": "markdown",
      "source": [
        "<center><img src = \"https://github.com/Trading-com-Dados/pmf/blob/main/logotipo-trading-com-dados.svg?raw=true\" width = \"200\">"
      ],
      "metadata": {
        "id": "LhC1zhTvkPk_"
      }
    },
    {
      "cell_type": "markdown",
      "source": [
        "<center><img src = \"https://github.com/Trading-com-Dados/pmf/blob/main/PMF%20002.png?raw=true\" width = \"700\">"
      ],
      "metadata": {
        "id": "2nM6YF8pimKI"
      }
    },
    {
      "cell_type": "markdown",
      "source": [
        "# **Python para Mercado Financeiro**"
      ],
      "metadata": {
        "id": "M-VdkjxzgPJz"
      }
    },
    {
      "cell_type": "markdown",
      "source": [
        "# Módulo 01 - Introdução ao Python"
      ],
      "metadata": {
        "id": "m3cIuk6ZgU_I"
      }
    },
    {
      "cell_type": "markdown",
      "source": [
        "## 9. Declarações Condicionais"
      ],
      "metadata": {
        "id": "rX9kFv6ZeYy4"
      }
    },
    {
      "cell_type": "markdown",
      "source": [
        "Em linguagens de programação, frequentemente devemos criar estruturas e comandos para atuar de acordo com condições específicas, ou seja, apenas se alguma condição for satisfeita."
      ],
      "metadata": {
        "id": "6i-qlcbieam3"
      }
    },
    {
      "cell_type": "code",
      "source": [
        "preco_atual = 35.95"
      ],
      "metadata": {
        "id": "baMsguyegXzu"
      },
      "execution_count": null,
      "outputs": []
    },
    {
      "cell_type": "code",
      "source": [
        "if preco_atual < 28:\n",
        "  print('O preço está baixo, compre!')"
      ],
      "metadata": {
        "id": "Su73fhKygcfy"
      },
      "execution_count": null,
      "outputs": []
    },
    {
      "cell_type": "code",
      "source": [
        "if preco_atual > 30:\n",
        "  print('Preço está muito caro, fique de fora deste papel.')"
      ],
      "metadata": {
        "colab": {
          "base_uri": "https://localhost:8080/"
        },
        "id": "zR6vv36fgvqp",
        "outputId": "cd54e0a0-3242-4dba-ff4b-f18d034d7c74"
      },
      "execution_count": null,
      "outputs": [
        {
          "output_type": "stream",
          "name": "stdout",
          "text": [
            "Preço está muito caro, fique de fora deste papel.\n"
          ]
        }
      ]
    },
    {
      "cell_type": "markdown",
      "source": [
        "Declarações condicionais diferentes na mesma estrutura:"
      ],
      "metadata": {
        "id": "VZa_B9WnhE6A"
      }
    },
    {
      "cell_type": "code",
      "source": [
        "if preco_atual < 28:\n",
        "  print('O preço está baixo, compre!')\n",
        "  print('Preço está abaixo de 28')\n",
        "else:\n",
        "  print('O preço ainda não chegou no patamar desejado')\n",
        "  print('Aguarde até o preço cair abaixo de 28')"
      ],
      "metadata": {
        "colab": {
          "base_uri": "https://localhost:8080/"
        },
        "id": "FO4D9Bt_hXY_",
        "outputId": "7fc237c8-189b-440b-e5d0-1c7d24f82d92"
      },
      "execution_count": null,
      "outputs": [
        {
          "output_type": "stream",
          "name": "stdout",
          "text": [
            "O preço ainda não chegou no patamar desejado\n",
            "Aguarde até o preço cair abaixo de 28\n"
          ]
        }
      ]
    },
    {
      "cell_type": "markdown",
      "source": [
        "Vamos atualizar o preço"
      ],
      "metadata": {
        "id": "jkChq9dmhz4t"
      }
    },
    {
      "cell_type": "code",
      "source": [
        "preco_atual = 25.95"
      ],
      "metadata": {
        "id": "wvD4aWVNiixv"
      },
      "execution_count": null,
      "outputs": []
    },
    {
      "cell_type": "code",
      "source": [
        "if preco_atual < 28:\n",
        "  print('O preço está baixo, compre!')\n",
        "  print('Preço está abaixo de 28')\n",
        "else:\n",
        "  print('O preço ainda não chegou no patamar desejado')\n",
        "  print('Aguarde até o preço cair abaixo de 28')"
      ],
      "metadata": {
        "colab": {
          "base_uri": "https://localhost:8080/"
        },
        "id": "limIEcobilZ-",
        "outputId": "82450ca3-83f5-441b-bbba-86d21402dc36"
      },
      "execution_count": null,
      "outputs": [
        {
          "output_type": "stream",
          "name": "stdout",
          "text": [
            "O preço está baixo, compre!\n",
            "Preço está abaixo de 28\n"
          ]
        }
      ]
    },
    {
      "cell_type": "markdown",
      "source": [
        "Implementação do 'elif'\n",
        "\n"
      ],
      "metadata": {
        "id": "dVZ9WVmqimm3"
      }
    },
    {
      "cell_type": "markdown",
      "source": [
        "Exemplo: Determinar o momento da compra"
      ],
      "metadata": {
        "id": "vUgs_VcdjJLY"
      }
    },
    {
      "cell_type": "code",
      "source": [
        "preco_weg = 35.72\n",
        "preco_alvo = 31.00"
      ],
      "metadata": {
        "id": "Ws7q-ebAjP1v"
      },
      "execution_count": null,
      "outputs": []
    },
    {
      "cell_type": "code",
      "source": [
        "if preco_weg < 31:\n",
        "  print(\"O preço está baixo, compre!\")\n",
        "elif preco_weg < 33:\n",
        "  print('O preço está em queda, continue esperando.')\n",
        "elif preco_weg < 35:\n",
        "  print('Detectamos um início do processo de queda de WEGE3')\n",
        "else:\n",
        "  print('WEGE3 ainda não iniciou uma tendência de queda. Aguarde!')"
      ],
      "metadata": {
        "colab": {
          "base_uri": "https://localhost:8080/"
        },
        "id": "OKFj0rBdjY6d",
        "outputId": "261fda40-da69-48b5-fd4e-da00c62fde63"
      },
      "execution_count": null,
      "outputs": [
        {
          "output_type": "stream",
          "name": "stdout",
          "text": [
            "WEGE3 ainda não iniciou uma tendência de queda. Aguarde!\n"
          ]
        }
      ]
    },
    {
      "cell_type": "code",
      "source": [
        "preco_weg = 33.42\n",
        "preco_alvo = 31.00"
      ],
      "metadata": {
        "id": "_DpwY9KrkXhR"
      },
      "execution_count": null,
      "outputs": []
    },
    {
      "cell_type": "code",
      "source": [
        "if preco_weg < 31:\n",
        "  print(\"O preço está baixo, compre!\")\n",
        "elif preco_weg < 33:\n",
        "  print('O preço está em queda, continue esperando.')\n",
        "elif preco_weg < 35:\n",
        "  print('Detectamos um início do processo de queda de WEGE3')\n",
        "else:\n",
        "  print('WEGE3 ainda não iniciou uma tendência de queda. Aguarde!')"
      ],
      "metadata": {
        "colab": {
          "base_uri": "https://localhost:8080/"
        },
        "id": "NtPWYO0FkjAu",
        "outputId": "8a72045f-08c7-458f-be0b-23ba11e5cad7"
      },
      "execution_count": null,
      "outputs": [
        {
          "output_type": "stream",
          "name": "stdout",
          "text": [
            "Detectamos um início do processo de queda de WEGE3\n"
          ]
        }
      ]
    },
    {
      "cell_type": "markdown",
      "source": [
        "Vamos utilizar a variável preco_alvo"
      ],
      "metadata": {
        "id": "J7XVKLWGkj2P"
      }
    },
    {
      "cell_type": "code",
      "source": [
        "preco_weg = 27.42"
      ],
      "metadata": {
        "id": "sIw0N5o7lL2N"
      },
      "execution_count": null,
      "outputs": []
    },
    {
      "cell_type": "code",
      "source": [
        "if preco_weg < preco_alvo:\n",
        "  print(\"O preço está baixo, compre!\")\n",
        "elif preco_weg < (preco_alvo+2):\n",
        "  print('O preço está em queda, continue esperando.')\n",
        "elif preco_weg < (preco_alvo + 4):\n",
        "  print('Detectamos um início do processo de queda de WEGE3')\n",
        "else:\n",
        "  print('WEGE3 ainda não iniciou uma tendência de queda. Aguarde!')"
      ],
      "metadata": {
        "colab": {
          "base_uri": "https://localhost:8080/"
        },
        "id": "Pi23SlG0k1jP",
        "outputId": "053627df-ba79-4f40-a1e7-a57bf0a0b281"
      },
      "execution_count": null,
      "outputs": [
        {
          "output_type": "stream",
          "name": "stdout",
          "text": [
            "O preço está baixo, compre!\n"
          ]
        }
      ]
    },
    {
      "cell_type": "markdown",
      "source": [
        "Importante observar que as condições vão sendo checadas pela ordem em que foram declaradas.\n",
        "\n",
        "Assim que uma delas é satisfeita, as demais não são executadas mais."
      ],
      "metadata": {
        "id": "brsH3G1plJuk"
      }
    },
    {
      "cell_type": "markdown",
      "source": [
        "Trocando a ordem das declarações. Note que assim que atendeu a primeira, as demais são ignoradas"
      ],
      "metadata": {
        "id": "TnqQibZclqEO"
      }
    },
    {
      "cell_type": "code",
      "source": [
        "if preco_weg < 33:\n",
        "  print('O preço está em queda, continue esperando.')\n",
        "elif preco_weg < 31:\n",
        "  print(\"O preço está baixo, compre!\")\n",
        "elif preco_weg < 35:\n",
        "  print('Detectamos um início do processo de queda de WEGE3')\n",
        "else:\n",
        "  print('WEGE3 ainda não iniciou uma tendência de queda. Aguarde!')"
      ],
      "metadata": {
        "colab": {
          "base_uri": "https://localhost:8080/"
        },
        "id": "aF4oAlUelr0G",
        "outputId": "86a8c00f-3857-4fe3-e3c7-bfd53a2439d0"
      },
      "execution_count": null,
      "outputs": [
        {
          "output_type": "stream",
          "name": "stdout",
          "text": [
            "O preço está em queda, continue esperando.\n"
          ]
        }
      ]
    },
    {
      "cell_type": "markdown",
      "source": [
        "Criar uma declaração condicional que usa o operador de igualdade."
      ],
      "metadata": {
        "id": "LEkAAZ9ll5TI"
      }
    },
    {
      "cell_type": "code",
      "source": [
        "interesse_cliente = 'PETR4'"
      ],
      "metadata": {
        "id": "HAI73kn-mNUV"
      },
      "execution_count": null,
      "outputs": []
    },
    {
      "cell_type": "code",
      "source": [
        "if interesse_cliente == 'PETR4':\n",
        "  print(\"O cliente seguiu minha recomendação e comprou PETR4.\")\n",
        "else:\n",
        "  print('O cliente comprou ações de', interesse_cliente)"
      ],
      "metadata": {
        "colab": {
          "base_uri": "https://localhost:8080/"
        },
        "id": "syMGSiP8mVwm",
        "outputId": "6258573e-264f-4ffb-f704-49c186f87e1b"
      },
      "execution_count": null,
      "outputs": [
        {
          "output_type": "stream",
          "name": "stdout",
          "text": [
            "O cliente seguiu minha recomendação e comprou PETR4.\n"
          ]
        }
      ]
    },
    {
      "cell_type": "code",
      "source": [],
      "metadata": {
        "id": "d_fJT9H9mhvN"
      },
      "execution_count": null,
      "outputs": []
    }
  ]
}