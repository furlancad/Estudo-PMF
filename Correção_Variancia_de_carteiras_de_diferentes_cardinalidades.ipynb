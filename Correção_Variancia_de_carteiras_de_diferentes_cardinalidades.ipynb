{
  "cells": [
    {
      "cell_type": "markdown",
      "metadata": {
        "id": "view-in-github",
        "colab_type": "text"
      },
      "source": [
        "<a href=\"https://colab.research.google.com/github/furlancad/Estudo-PMF/blob/main/Corre%C3%A7%C3%A3o_Variancia_de_carteiras_de_diferentes_cardinalidades.ipynb\" target=\"_parent\"><img src=\"https://colab.research.google.com/assets/colab-badge.svg\" alt=\"Open In Colab\"/></a>"
      ]
    },
    {
      "cell_type": "markdown",
      "metadata": {
        "id": "VTco81CAzYHG"
      },
      "source": [
        "## <center> Comparando a variância de carteiras de diferentes cardinalidades <center>"
      ]
    },
    {
      "cell_type": "code",
      "execution_count": null,
      "metadata": {
        "id": "GZ0DLfh3zYHJ"
      },
      "outputs": [],
      "source": [
        "import yfinance as yf\n",
        "import pandas as pd\n",
        "import numpy as np"
      ]
    },
    {
      "cell_type": "code",
      "execution_count": null,
      "metadata": {
        "id": "L0v1TqitzYHL"
      },
      "outputs": [],
      "source": [
        "dados = pd.read_excel(\"ibov.xlsx\") #Ativos ibovespa dia 05/10/2022"
      ]
    },
    {
      "cell_type": "code",
      "execution_count": null,
      "metadata": {
        "id": "k-kV9za6zYHL",
        "outputId": "4b7bf8a2-c218-4d24-86c8-41736a5a2cf5",
        "colab": {
          "base_uri": "https://localhost:8080/",
          "height": 423
        }
      },
      "outputs": [
        {
          "output_type": "execute_result",
          "data": {
            "text/plain": [
              "   Código          Ação        Tipo  Qtde. Teórica  Part. (%)\n",
              "0   RRRP3  3R PETROLEUM  ON      NM      200453863      0.381\n",
              "1   ALPA4    ALPARGATAS  PN      N1      202765994      0.215\n",
              "2   ABEV3     AMBEV S/A          ON     4386652506      3.253\n",
              "3   AMER3    AMERICANAS  ON      NM      596086291      0.526\n",
              "4   ARZZ3     AREZZO CO  ON      NM       60358029      0.278\n",
              "..    ...           ...         ...            ...        ...\n",
              "87  VALE3          VALE  ON      NM     4547296398     15.738\n",
              "88  VIIA3           VIA  ON      NM     1576975642      0.259\n",
              "89  VBBR3         VIBRA  ON      NM     1114442976      0.943\n",
              "90  WEGE3           WEG  ON  EJ  NM     1481593024      2.249\n",
              "91  YDUQ3    YDUQS PART  ON      NM      296015511      0.199\n",
              "\n",
              "[92 rows x 5 columns]"
            ],
            "text/html": [
              "\n",
              "  <div id=\"df-a33b84f6-3145-4060-86c0-070a8a36f53c\">\n",
              "    <div class=\"colab-df-container\">\n",
              "      <div>\n",
              "<style scoped>\n",
              "    .dataframe tbody tr th:only-of-type {\n",
              "        vertical-align: middle;\n",
              "    }\n",
              "\n",
              "    .dataframe tbody tr th {\n",
              "        vertical-align: top;\n",
              "    }\n",
              "\n",
              "    .dataframe thead th {\n",
              "        text-align: right;\n",
              "    }\n",
              "</style>\n",
              "<table border=\"1\" class=\"dataframe\">\n",
              "  <thead>\n",
              "    <tr style=\"text-align: right;\">\n",
              "      <th></th>\n",
              "      <th>Código</th>\n",
              "      <th>Ação</th>\n",
              "      <th>Tipo</th>\n",
              "      <th>Qtde. Teórica</th>\n",
              "      <th>Part. (%)</th>\n",
              "    </tr>\n",
              "  </thead>\n",
              "  <tbody>\n",
              "    <tr>\n",
              "      <th>0</th>\n",
              "      <td>RRRP3</td>\n",
              "      <td>3R PETROLEUM</td>\n",
              "      <td>ON      NM</td>\n",
              "      <td>200453863</td>\n",
              "      <td>0.381</td>\n",
              "    </tr>\n",
              "    <tr>\n",
              "      <th>1</th>\n",
              "      <td>ALPA4</td>\n",
              "      <td>ALPARGATAS</td>\n",
              "      <td>PN      N1</td>\n",
              "      <td>202765994</td>\n",
              "      <td>0.215</td>\n",
              "    </tr>\n",
              "    <tr>\n",
              "      <th>2</th>\n",
              "      <td>ABEV3</td>\n",
              "      <td>AMBEV S/A</td>\n",
              "      <td>ON</td>\n",
              "      <td>4386652506</td>\n",
              "      <td>3.253</td>\n",
              "    </tr>\n",
              "    <tr>\n",
              "      <th>3</th>\n",
              "      <td>AMER3</td>\n",
              "      <td>AMERICANAS</td>\n",
              "      <td>ON      NM</td>\n",
              "      <td>596086291</td>\n",
              "      <td>0.526</td>\n",
              "    </tr>\n",
              "    <tr>\n",
              "      <th>4</th>\n",
              "      <td>ARZZ3</td>\n",
              "      <td>AREZZO CO</td>\n",
              "      <td>ON      NM</td>\n",
              "      <td>60358029</td>\n",
              "      <td>0.278</td>\n",
              "    </tr>\n",
              "    <tr>\n",
              "      <th>...</th>\n",
              "      <td>...</td>\n",
              "      <td>...</td>\n",
              "      <td>...</td>\n",
              "      <td>...</td>\n",
              "      <td>...</td>\n",
              "    </tr>\n",
              "    <tr>\n",
              "      <th>87</th>\n",
              "      <td>VALE3</td>\n",
              "      <td>VALE</td>\n",
              "      <td>ON      NM</td>\n",
              "      <td>4547296398</td>\n",
              "      <td>15.738</td>\n",
              "    </tr>\n",
              "    <tr>\n",
              "      <th>88</th>\n",
              "      <td>VIIA3</td>\n",
              "      <td>VIA</td>\n",
              "      <td>ON      NM</td>\n",
              "      <td>1576975642</td>\n",
              "      <td>0.259</td>\n",
              "    </tr>\n",
              "    <tr>\n",
              "      <th>89</th>\n",
              "      <td>VBBR3</td>\n",
              "      <td>VIBRA</td>\n",
              "      <td>ON      NM</td>\n",
              "      <td>1114442976</td>\n",
              "      <td>0.943</td>\n",
              "    </tr>\n",
              "    <tr>\n",
              "      <th>90</th>\n",
              "      <td>WEGE3</td>\n",
              "      <td>WEG</td>\n",
              "      <td>ON  EJ  NM</td>\n",
              "      <td>1481593024</td>\n",
              "      <td>2.249</td>\n",
              "    </tr>\n",
              "    <tr>\n",
              "      <th>91</th>\n",
              "      <td>YDUQ3</td>\n",
              "      <td>YDUQS PART</td>\n",
              "      <td>ON      NM</td>\n",
              "      <td>296015511</td>\n",
              "      <td>0.199</td>\n",
              "    </tr>\n",
              "  </tbody>\n",
              "</table>\n",
              "<p>92 rows × 5 columns</p>\n",
              "</div>\n",
              "      <button class=\"colab-df-convert\" onclick=\"convertToInteractive('df-a33b84f6-3145-4060-86c0-070a8a36f53c')\"\n",
              "              title=\"Convert this dataframe to an interactive table.\"\n",
              "              style=\"display:none;\">\n",
              "        \n",
              "  <svg xmlns=\"http://www.w3.org/2000/svg\" height=\"24px\"viewBox=\"0 0 24 24\"\n",
              "       width=\"24px\">\n",
              "    <path d=\"M0 0h24v24H0V0z\" fill=\"none\"/>\n",
              "    <path d=\"M18.56 5.44l.94 2.06.94-2.06 2.06-.94-2.06-.94-.94-2.06-.94 2.06-2.06.94zm-11 1L8.5 8.5l.94-2.06 2.06-.94-2.06-.94L8.5 2.5l-.94 2.06-2.06.94zm10 10l.94 2.06.94-2.06 2.06-.94-2.06-.94-.94-2.06-.94 2.06-2.06.94z\"/><path d=\"M17.41 7.96l-1.37-1.37c-.4-.4-.92-.59-1.43-.59-.52 0-1.04.2-1.43.59L10.3 9.45l-7.72 7.72c-.78.78-.78 2.05 0 2.83L4 21.41c.39.39.9.59 1.41.59.51 0 1.02-.2 1.41-.59l7.78-7.78 2.81-2.81c.8-.78.8-2.07 0-2.86zM5.41 20L4 18.59l7.72-7.72 1.47 1.35L5.41 20z\"/>\n",
              "  </svg>\n",
              "      </button>\n",
              "      \n",
              "  <style>\n",
              "    .colab-df-container {\n",
              "      display:flex;\n",
              "      flex-wrap:wrap;\n",
              "      gap: 12px;\n",
              "    }\n",
              "\n",
              "    .colab-df-convert {\n",
              "      background-color: #E8F0FE;\n",
              "      border: none;\n",
              "      border-radius: 50%;\n",
              "      cursor: pointer;\n",
              "      display: none;\n",
              "      fill: #1967D2;\n",
              "      height: 32px;\n",
              "      padding: 0 0 0 0;\n",
              "      width: 32px;\n",
              "    }\n",
              "\n",
              "    .colab-df-convert:hover {\n",
              "      background-color: #E2EBFA;\n",
              "      box-shadow: 0px 1px 2px rgba(60, 64, 67, 0.3), 0px 1px 3px 1px rgba(60, 64, 67, 0.15);\n",
              "      fill: #174EA6;\n",
              "    }\n",
              "\n",
              "    [theme=dark] .colab-df-convert {\n",
              "      background-color: #3B4455;\n",
              "      fill: #D2E3FC;\n",
              "    }\n",
              "\n",
              "    [theme=dark] .colab-df-convert:hover {\n",
              "      background-color: #434B5C;\n",
              "      box-shadow: 0px 1px 3px 1px rgba(0, 0, 0, 0.15);\n",
              "      filter: drop-shadow(0px 1px 2px rgba(0, 0, 0, 0.3));\n",
              "      fill: #FFFFFF;\n",
              "    }\n",
              "  </style>\n",
              "\n",
              "      <script>\n",
              "        const buttonEl =\n",
              "          document.querySelector('#df-a33b84f6-3145-4060-86c0-070a8a36f53c button.colab-df-convert');\n",
              "        buttonEl.style.display =\n",
              "          google.colab.kernel.accessAllowed ? 'block' : 'none';\n",
              "\n",
              "        async function convertToInteractive(key) {\n",
              "          const element = document.querySelector('#df-a33b84f6-3145-4060-86c0-070a8a36f53c');\n",
              "          const dataTable =\n",
              "            await google.colab.kernel.invokeFunction('convertToInteractive',\n",
              "                                                     [key], {});\n",
              "          if (!dataTable) return;\n",
              "\n",
              "          const docLinkHtml = 'Like what you see? Visit the ' +\n",
              "            '<a target=\"_blank\" href=https://colab.research.google.com/notebooks/data_table.ipynb>data table notebook</a>'\n",
              "            + ' to learn more about interactive tables.';\n",
              "          element.innerHTML = '';\n",
              "          dataTable['output_type'] = 'display_data';\n",
              "          await google.colab.output.renderOutput(dataTable, element);\n",
              "          const docLink = document.createElement('div');\n",
              "          docLink.innerHTML = docLinkHtml;\n",
              "          element.appendChild(docLink);\n",
              "        }\n",
              "      </script>\n",
              "    </div>\n",
              "  </div>\n",
              "  "
            ]
          },
          "metadata": {},
          "execution_count": 3
        }
      ],
      "source": [
        "dados"
      ]
    },
    {
      "cell_type": "code",
      "execution_count": null,
      "metadata": {
        "id": "otwXQX_hzYHM"
      },
      "outputs": [],
      "source": [
        "ativos = dados['Código'].values"
      ]
    },
    {
      "cell_type": "code",
      "execution_count": null,
      "metadata": {
        "id": "TVysHRFvzYHN",
        "outputId": "34261777-8f06-42a1-dd13-3f0004105af9",
        "colab": {
          "base_uri": "https://localhost:8080/"
        }
      },
      "outputs": [
        {
          "output_type": "execute_result",
          "data": {
            "text/plain": [
              "array(['RRRP3', 'ALPA4', 'ABEV3', 'AMER3', 'ARZZ3', 'ASAI3', 'AZUL4',\n",
              "       'B3SA3', 'BPAN4', 'BBSE3', 'BRML3', 'BBDC3', 'BBDC4', 'BRAP4',\n",
              "       'BBAS3', 'BRKM5', 'BRFS3', 'BPAC11', 'CRFB3', 'CCRO3', 'CMIG4',\n",
              "       'CIEL3', 'COGN3', 'CPLE6', 'CSAN3', 'CPFE3', 'CMIN3', 'CVCB3',\n",
              "       'CYRE3', 'DXCO3', 'ECOR3', 'ELET3', 'ELET6', 'EMBR3', 'ENBR3',\n",
              "       'ENGI11', 'ENEV3', 'EGIE3', 'EQTL3', 'EZTC3', 'FLRY3', 'GGBR4',\n",
              "       'GOAU4', 'GOLL4', 'NTCO3', 'SOMA3', 'HAPV3', 'HYPE3', 'IGTI11',\n",
              "       'IRBR3', 'ITSA4', 'ITUB4', 'JBSS3', 'KLBN11', 'RENT3', 'LWSA3',\n",
              "       'LREN3', 'MGLU3', 'MRFG3', 'CASH3', 'BEEF3', 'MRVE3', 'MULT3',\n",
              "       'PCAR3', 'PETR3', 'PETR4', 'PRIO3', 'PETZ3', 'POSI3', 'QUAL3',\n",
              "       'RADL3', 'RAIZ4', 'RDOR3', 'RAIL3', 'SBSP3', 'SANB11', 'SMTO3',\n",
              "       'CSNA3', 'SLCE3', 'SULA11', 'SUZB3', 'TAEE11', 'VIVT3', 'TIMS3',\n",
              "       'TOTS3', 'UGPA3', 'USIM5', 'VALE3', 'VIIA3', 'VBBR3', 'WEGE3',\n",
              "       'YDUQ3'], dtype=object)"
            ]
          },
          "metadata": {},
          "execution_count": 5
        }
      ],
      "source": [
        "ativos"
      ]
    },
    {
      "cell_type": "code",
      "execution_count": null,
      "metadata": {
        "id": "zwRMZrrJzYHN"
      },
      "outputs": [],
      "source": [
        "QTD_ATIVOS = ativos.size"
      ]
    },
    {
      "cell_type": "code",
      "execution_count": null,
      "metadata": {
        "id": "hQDAnA6gzYHN"
      },
      "outputs": [],
      "source": [
        "data_inicial = '2021-01-01'\n",
        "data_final = '2022-01-31'"
      ]
    },
    {
      "cell_type": "code",
      "execution_count": null,
      "metadata": {
        "id": "qGUlxf9QzYHO",
        "outputId": "67ffa76d-375f-4828-ce10-dc9370e52670",
        "colab": {
          "base_uri": "https://localhost:8080/"
        }
      },
      "outputs": [
        {
          "output_type": "stream",
          "name": "stdout",
          "text": [
            "[*********************100%***********************]  92 of 92 completed\n",
            "\n",
            "2 Failed downloads:\n",
            "- SULA11.SA: No timezone found, symbol may be delisted\n",
            "- BRML3.SA: No timezone found, symbol may be delisted\n"
          ]
        }
      ],
      "source": [
        "fechamentos = yf.download(tickers=(ativos+'.SA').tolist(), start=data_inicial, end = data_final, rounding=True)['Adj Close']\n",
        "fechamentos.columns = fechamentos.columns.str.rstrip('.SA')\n",
        "retornos = fechamentos.pct_change()"
      ]
    },
    {
      "cell_type": "code",
      "execution_count": null,
      "metadata": {
        "id": "deJK38cNzYHO",
        "outputId": "9de34956-c9ca-4bff-cc40-c9f176f5295f",
        "colab": {
          "base_uri": "https://localhost:8080/",
          "height": 504
        }
      },
      "outputs": [
        {
          "output_type": "execute_result",
          "data": {
            "text/plain": [
              "                        ABEV3     ALPA4     AMER3     ARZZ3  ASAI3     AZUL4  \\\n",
              "Date                                                                           \n",
              "2021-01-04 00:00:00       NaN       NaN       NaN       NaN    NaN       NaN   \n",
              "2021-01-05 00:00:00  0.021292  0.000486 -0.022346 -0.015246    NaN  0.012457   \n",
              "2021-01-06 00:00:00  0.020153 -0.054356 -0.065306 -0.059142    NaN -0.040052   \n",
              "2021-01-07 00:00:00 -0.005450 -0.017963 -0.020234 -0.001316    NaN -0.016908   \n",
              "2021-01-08 00:00:00  0.030137  0.051738  0.069678  0.018784    NaN  0.015257   \n",
              "\n",
              "                        B3SA3     BBAS3     BBDC3     BBDC4  ...     TIMS3  \\\n",
              "Date                                                         ...             \n",
              "2021-01-04 00:00:00       NaN       NaN       NaN       NaN  ...       NaN   \n",
              "2021-01-05 00:00:00  0.001638 -0.010329 -0.004632 -0.006166  ... -0.022377   \n",
              "2021-01-06 00:00:00 -0.016349  0.022831  0.025015  0.033092  ... -0.027624   \n",
              "2021-01-07 00:00:00  0.028255  0.039541  0.024404  0.026527  ... -0.016234   \n",
              "2021-01-08 00:00:00  0.014547  0.005828 -0.007756 -0.008776  ...  0.045380   \n",
              "\n",
              "                        TOTS3     UGPA3     USIM5     VALE3     VBBR3  \\\n",
              "Date                                                                    \n",
              "2021-01-04 00:00:00       NaN       NaN       NaN       NaN       NaN   \n",
              "2021-01-05 00:00:00 -0.004783 -0.008478  0.011218  0.016856  0.011029   \n",
              "2021-01-06 00:00:00 -0.047320 -0.012151  0.048336  0.032871 -0.014545   \n",
              "2021-01-07 00:00:00 -0.002716  0.030524  0.047619  0.065295  0.018450   \n",
              "2021-01-08 00:00:00  0.066537  0.026083 -0.004329 -0.003219  0.027950   \n",
              "\n",
              "                        VIIA3     VIVT3     WEGE3     YDUQ3  \n",
              "Date                                                         \n",
              "2021-01-04 00:00:00       NaN       NaN       NaN       NaN  \n",
              "2021-01-05 00:00:00  0.003092 -0.008485  0.061423  0.005119  \n",
              "2021-01-06 00:00:00 -0.045006 -0.011151  0.026709 -0.039844  \n",
              "2021-01-07 00:00:00 -0.026469 -0.025439  0.041316  0.012480  \n",
              "2021-01-08 00:00:00  0.029841  0.026103  0.060495  0.034206  \n",
              "\n",
              "[5 rows x 92 columns]"
            ],
            "text/html": [
              "\n",
              "  <div id=\"df-3fa230d6-1b6e-427e-a5cd-fdc6504b1341\">\n",
              "    <div class=\"colab-df-container\">\n",
              "      <div>\n",
              "<style scoped>\n",
              "    .dataframe tbody tr th:only-of-type {\n",
              "        vertical-align: middle;\n",
              "    }\n",
              "\n",
              "    .dataframe tbody tr th {\n",
              "        vertical-align: top;\n",
              "    }\n",
              "\n",
              "    .dataframe thead th {\n",
              "        text-align: right;\n",
              "    }\n",
              "</style>\n",
              "<table border=\"1\" class=\"dataframe\">\n",
              "  <thead>\n",
              "    <tr style=\"text-align: right;\">\n",
              "      <th></th>\n",
              "      <th>ABEV3</th>\n",
              "      <th>ALPA4</th>\n",
              "      <th>AMER3</th>\n",
              "      <th>ARZZ3</th>\n",
              "      <th>ASAI3</th>\n",
              "      <th>AZUL4</th>\n",
              "      <th>B3SA3</th>\n",
              "      <th>BBAS3</th>\n",
              "      <th>BBDC3</th>\n",
              "      <th>BBDC4</th>\n",
              "      <th>...</th>\n",
              "      <th>TIMS3</th>\n",
              "      <th>TOTS3</th>\n",
              "      <th>UGPA3</th>\n",
              "      <th>USIM5</th>\n",
              "      <th>VALE3</th>\n",
              "      <th>VBBR3</th>\n",
              "      <th>VIIA3</th>\n",
              "      <th>VIVT3</th>\n",
              "      <th>WEGE3</th>\n",
              "      <th>YDUQ3</th>\n",
              "    </tr>\n",
              "    <tr>\n",
              "      <th>Date</th>\n",
              "      <th></th>\n",
              "      <th></th>\n",
              "      <th></th>\n",
              "      <th></th>\n",
              "      <th></th>\n",
              "      <th></th>\n",
              "      <th></th>\n",
              "      <th></th>\n",
              "      <th></th>\n",
              "      <th></th>\n",
              "      <th></th>\n",
              "      <th></th>\n",
              "      <th></th>\n",
              "      <th></th>\n",
              "      <th></th>\n",
              "      <th></th>\n",
              "      <th></th>\n",
              "      <th></th>\n",
              "      <th></th>\n",
              "      <th></th>\n",
              "      <th></th>\n",
              "    </tr>\n",
              "  </thead>\n",
              "  <tbody>\n",
              "    <tr>\n",
              "      <th>2021-01-04 00:00:00</th>\n",
              "      <td>NaN</td>\n",
              "      <td>NaN</td>\n",
              "      <td>NaN</td>\n",
              "      <td>NaN</td>\n",
              "      <td>NaN</td>\n",
              "      <td>NaN</td>\n",
              "      <td>NaN</td>\n",
              "      <td>NaN</td>\n",
              "      <td>NaN</td>\n",
              "      <td>NaN</td>\n",
              "      <td>...</td>\n",
              "      <td>NaN</td>\n",
              "      <td>NaN</td>\n",
              "      <td>NaN</td>\n",
              "      <td>NaN</td>\n",
              "      <td>NaN</td>\n",
              "      <td>NaN</td>\n",
              "      <td>NaN</td>\n",
              "      <td>NaN</td>\n",
              "      <td>NaN</td>\n",
              "      <td>NaN</td>\n",
              "    </tr>\n",
              "    <tr>\n",
              "      <th>2021-01-05 00:00:00</th>\n",
              "      <td>0.021292</td>\n",
              "      <td>0.000486</td>\n",
              "      <td>-0.022346</td>\n",
              "      <td>-0.015246</td>\n",
              "      <td>NaN</td>\n",
              "      <td>0.012457</td>\n",
              "      <td>0.001638</td>\n",
              "      <td>-0.010329</td>\n",
              "      <td>-0.004632</td>\n",
              "      <td>-0.006166</td>\n",
              "      <td>...</td>\n",
              "      <td>-0.022377</td>\n",
              "      <td>-0.004783</td>\n",
              "      <td>-0.008478</td>\n",
              "      <td>0.011218</td>\n",
              "      <td>0.016856</td>\n",
              "      <td>0.011029</td>\n",
              "      <td>0.003092</td>\n",
              "      <td>-0.008485</td>\n",
              "      <td>0.061423</td>\n",
              "      <td>0.005119</td>\n",
              "    </tr>\n",
              "    <tr>\n",
              "      <th>2021-01-06 00:00:00</th>\n",
              "      <td>0.020153</td>\n",
              "      <td>-0.054356</td>\n",
              "      <td>-0.065306</td>\n",
              "      <td>-0.059142</td>\n",
              "      <td>NaN</td>\n",
              "      <td>-0.040052</td>\n",
              "      <td>-0.016349</td>\n",
              "      <td>0.022831</td>\n",
              "      <td>0.025015</td>\n",
              "      <td>0.033092</td>\n",
              "      <td>...</td>\n",
              "      <td>-0.027624</td>\n",
              "      <td>-0.047320</td>\n",
              "      <td>-0.012151</td>\n",
              "      <td>0.048336</td>\n",
              "      <td>0.032871</td>\n",
              "      <td>-0.014545</td>\n",
              "      <td>-0.045006</td>\n",
              "      <td>-0.011151</td>\n",
              "      <td>0.026709</td>\n",
              "      <td>-0.039844</td>\n",
              "    </tr>\n",
              "    <tr>\n",
              "      <th>2021-01-07 00:00:00</th>\n",
              "      <td>-0.005450</td>\n",
              "      <td>-0.017963</td>\n",
              "      <td>-0.020234</td>\n",
              "      <td>-0.001316</td>\n",
              "      <td>NaN</td>\n",
              "      <td>-0.016908</td>\n",
              "      <td>0.028255</td>\n",
              "      <td>0.039541</td>\n",
              "      <td>0.024404</td>\n",
              "      <td>0.026527</td>\n",
              "      <td>...</td>\n",
              "      <td>-0.016234</td>\n",
              "      <td>-0.002716</td>\n",
              "      <td>0.030524</td>\n",
              "      <td>0.047619</td>\n",
              "      <td>0.065295</td>\n",
              "      <td>0.018450</td>\n",
              "      <td>-0.026469</td>\n",
              "      <td>-0.025439</td>\n",
              "      <td>0.041316</td>\n",
              "      <td>0.012480</td>\n",
              "    </tr>\n",
              "    <tr>\n",
              "      <th>2021-01-08 00:00:00</th>\n",
              "      <td>0.030137</td>\n",
              "      <td>0.051738</td>\n",
              "      <td>0.069678</td>\n",
              "      <td>0.018784</td>\n",
              "      <td>NaN</td>\n",
              "      <td>0.015257</td>\n",
              "      <td>0.014547</td>\n",
              "      <td>0.005828</td>\n",
              "      <td>-0.007756</td>\n",
              "      <td>-0.008776</td>\n",
              "      <td>...</td>\n",
              "      <td>0.045380</td>\n",
              "      <td>0.066537</td>\n",
              "      <td>0.026083</td>\n",
              "      <td>-0.004329</td>\n",
              "      <td>-0.003219</td>\n",
              "      <td>0.027950</td>\n",
              "      <td>0.029841</td>\n",
              "      <td>0.026103</td>\n",
              "      <td>0.060495</td>\n",
              "      <td>0.034206</td>\n",
              "    </tr>\n",
              "  </tbody>\n",
              "</table>\n",
              "<p>5 rows × 92 columns</p>\n",
              "</div>\n",
              "      <button class=\"colab-df-convert\" onclick=\"convertToInteractive('df-3fa230d6-1b6e-427e-a5cd-fdc6504b1341')\"\n",
              "              title=\"Convert this dataframe to an interactive table.\"\n",
              "              style=\"display:none;\">\n",
              "        \n",
              "  <svg xmlns=\"http://www.w3.org/2000/svg\" height=\"24px\"viewBox=\"0 0 24 24\"\n",
              "       width=\"24px\">\n",
              "    <path d=\"M0 0h24v24H0V0z\" fill=\"none\"/>\n",
              "    <path d=\"M18.56 5.44l.94 2.06.94-2.06 2.06-.94-2.06-.94-.94-2.06-.94 2.06-2.06.94zm-11 1L8.5 8.5l.94-2.06 2.06-.94-2.06-.94L8.5 2.5l-.94 2.06-2.06.94zm10 10l.94 2.06.94-2.06 2.06-.94-2.06-.94-.94-2.06-.94 2.06-2.06.94z\"/><path d=\"M17.41 7.96l-1.37-1.37c-.4-.4-.92-.59-1.43-.59-.52 0-1.04.2-1.43.59L10.3 9.45l-7.72 7.72c-.78.78-.78 2.05 0 2.83L4 21.41c.39.39.9.59 1.41.59.51 0 1.02-.2 1.41-.59l7.78-7.78 2.81-2.81c.8-.78.8-2.07 0-2.86zM5.41 20L4 18.59l7.72-7.72 1.47 1.35L5.41 20z\"/>\n",
              "  </svg>\n",
              "      </button>\n",
              "      \n",
              "  <style>\n",
              "    .colab-df-container {\n",
              "      display:flex;\n",
              "      flex-wrap:wrap;\n",
              "      gap: 12px;\n",
              "    }\n",
              "\n",
              "    .colab-df-convert {\n",
              "      background-color: #E8F0FE;\n",
              "      border: none;\n",
              "      border-radius: 50%;\n",
              "      cursor: pointer;\n",
              "      display: none;\n",
              "      fill: #1967D2;\n",
              "      height: 32px;\n",
              "      padding: 0 0 0 0;\n",
              "      width: 32px;\n",
              "    }\n",
              "\n",
              "    .colab-df-convert:hover {\n",
              "      background-color: #E2EBFA;\n",
              "      box-shadow: 0px 1px 2px rgba(60, 64, 67, 0.3), 0px 1px 3px 1px rgba(60, 64, 67, 0.15);\n",
              "      fill: #174EA6;\n",
              "    }\n",
              "\n",
              "    [theme=dark] .colab-df-convert {\n",
              "      background-color: #3B4455;\n",
              "      fill: #D2E3FC;\n",
              "    }\n",
              "\n",
              "    [theme=dark] .colab-df-convert:hover {\n",
              "      background-color: #434B5C;\n",
              "      box-shadow: 0px 1px 3px 1px rgba(0, 0, 0, 0.15);\n",
              "      filter: drop-shadow(0px 1px 2px rgba(0, 0, 0, 0.3));\n",
              "      fill: #FFFFFF;\n",
              "    }\n",
              "  </style>\n",
              "\n",
              "      <script>\n",
              "        const buttonEl =\n",
              "          document.querySelector('#df-3fa230d6-1b6e-427e-a5cd-fdc6504b1341 button.colab-df-convert');\n",
              "        buttonEl.style.display =\n",
              "          google.colab.kernel.accessAllowed ? 'block' : 'none';\n",
              "\n",
              "        async function convertToInteractive(key) {\n",
              "          const element = document.querySelector('#df-3fa230d6-1b6e-427e-a5cd-fdc6504b1341');\n",
              "          const dataTable =\n",
              "            await google.colab.kernel.invokeFunction('convertToInteractive',\n",
              "                                                     [key], {});\n",
              "          if (!dataTable) return;\n",
              "\n",
              "          const docLinkHtml = 'Like what you see? Visit the ' +\n",
              "            '<a target=\"_blank\" href=https://colab.research.google.com/notebooks/data_table.ipynb>data table notebook</a>'\n",
              "            + ' to learn more about interactive tables.';\n",
              "          element.innerHTML = '';\n",
              "          dataTable['output_type'] = 'display_data';\n",
              "          await google.colab.output.renderOutput(dataTable, element);\n",
              "          const docLink = document.createElement('div');\n",
              "          docLink.innerHTML = docLinkHtml;\n",
              "          element.appendChild(docLink);\n",
              "        }\n",
              "      </script>\n",
              "    </div>\n",
              "  </div>\n",
              "  "
            ]
          },
          "metadata": {},
          "execution_count": 9
        }
      ],
      "source": [
        "retornos.head()"
      ]
    },
    {
      "cell_type": "code",
      "source": [
        "# FILTRANDO OS ATIVOS COM VARIOS VALORES NULOS\n",
        "colunas_com_mais_de_um_na = retornos.columns[retornos.isna().sum() > 1]\n",
        "retornos_filtrados = retornos[colunas_com_mais_de_um_na]\n",
        "excluir_ativos = list(retornos_filtrados.columns)\n",
        "\n",
        "retornos = retornos.drop(excluir_ativos, axis=1)"
      ],
      "metadata": {
        "id": "_hs5TzxEz1wY"
      },
      "execution_count": null,
      "outputs": []
    },
    {
      "cell_type": "code",
      "source": [
        "# DEFININDO A PRIMEIRA COLUNA COMO 0\n",
        "retornos= retornos.fillna(0)"
      ],
      "metadata": {
        "id": "Y32sxbLl0qwn"
      },
      "execution_count": null,
      "outputs": []
    },
    {
      "cell_type": "code",
      "source": [
        "# Redefinindo ativos\n",
        "ativos = list(retornos.columns)"
      ],
      "metadata": {
        "id": "Yq1YrC8c1ZVP"
      },
      "execution_count": null,
      "outputs": []
    },
    {
      "cell_type": "code",
      "source": [
        "len(ativos)"
      ],
      "metadata": {
        "colab": {
          "base_uri": "https://localhost:8080/"
        },
        "id": "O9pCkFfo1iUe",
        "outputId": "c67292ec-a5ec-42b8-e289-4b53d845404b"
      },
      "execution_count": null,
      "outputs": [
        {
          "output_type": "execute_result",
          "data": {
            "text/plain": [
              "86"
            ]
          },
          "metadata": {},
          "execution_count": 59
        }
      ]
    },
    {
      "cell_type": "code",
      "source": [
        "len(retornos.columns)"
      ],
      "metadata": {
        "colab": {
          "base_uri": "https://localhost:8080/"
        },
        "id": "NRa5aw9X1jmU",
        "outputId": "f501b88e-0c6f-44b4-a775-ef239a214c89"
      },
      "execution_count": null,
      "outputs": [
        {
          "output_type": "execute_result",
          "data": {
            "text/plain": [
              "86"
            ]
          },
          "metadata": {},
          "execution_count": 61
        }
      ]
    },
    {
      "cell_type": "code",
      "execution_count": null,
      "metadata": {
        "id": "TZledPI0zYHP"
      },
      "outputs": [],
      "source": [
        "aux = np.random.rand(5,1)[:,0]"
      ]
    },
    {
      "cell_type": "code",
      "execution_count": null,
      "metadata": {
        "id": "38Phoy5qzYHP",
        "outputId": "b3bd3766-cca5-4280-9df4-9cc6fe04042d",
        "colab": {
          "base_uri": "https://localhost:8080/"
        }
      },
      "outputs": [
        {
          "output_type": "execute_result",
          "data": {
            "text/plain": [
              "array([0.78295487, 0.92933997, 0.55478476, 0.58663815, 0.02605681])"
            ]
          },
          "metadata": {},
          "execution_count": 53
        }
      ],
      "source": [
        "aux"
      ]
    },
    {
      "cell_type": "code",
      "execution_count": null,
      "metadata": {
        "id": "2JltXPUqzYHP"
      },
      "outputs": [],
      "source": [
        "peso = aux/sum(aux)"
      ]
    },
    {
      "cell_type": "code",
      "execution_count": null,
      "metadata": {
        "id": "Da60fkU0zYHP",
        "outputId": "00ec1fc8-c0b1-41e0-fb99-428b98c6863c",
        "colab": {
          "base_uri": "https://localhost:8080/"
        }
      },
      "outputs": [
        {
          "output_type": "execute_result",
          "data": {
            "text/plain": [
              "array([0.27188061, 0.32271275, 0.19264868, 0.20370975, 0.00904821])"
            ]
          },
          "metadata": {},
          "execution_count": 55
        }
      ],
      "source": [
        "peso"
      ]
    },
    {
      "cell_type": "code",
      "execution_count": null,
      "metadata": {
        "id": "fBjd6_dnzYHP",
        "outputId": "f50ae463-3c2f-4ec7-9d01-fe250199a257",
        "colab": {
          "base_uri": "https://localhost:8080/"
        }
      },
      "outputs": [
        {
          "output_type": "execute_result",
          "data": {
            "text/plain": [
              "1.0"
            ]
          },
          "metadata": {},
          "execution_count": 56
        }
      ],
      "source": [
        "peso.sum().round(1)"
      ]
    },
    {
      "cell_type": "code",
      "source": [
        "# Redefinindo quantidade de ativos\n",
        "QTD_ATIVOS = len(retornos.columns)"
      ],
      "metadata": {
        "id": "ep3IdkmT1wx-"
      },
      "execution_count": null,
      "outputs": []
    },
    {
      "cell_type": "code",
      "execution_count": null,
      "metadata": {
        "id": "tb6Y8AYIzYHP"
      },
      "outputs": [],
      "source": [
        "def calcula_cov(QTD_ATIVOS,retornos, ativos):\n",
        "    variancia = []\n",
        "    for quantidade in range(2,QTD_ATIVOS,2):\n",
        "        aux = np.random.rand(quantidade,1)[:,0]\n",
        "        peso = aux/sum(aux)\n",
        "        variancia.append((peso.dot(retornos[ativos[:quantidade]].cov())).dot(peso))\n",
        "    return variancia"
      ]
    },
    {
      "cell_type": "code",
      "execution_count": null,
      "metadata": {
        "id": "tLOoCkkxzYHQ"
      },
      "outputs": [],
      "source": [
        "variancias = calcula_cov(QTD_ATIVOS,retornos, ativos)"
      ]
    },
    {
      "cell_type": "code",
      "source": [
        "QTD_ATIVOS"
      ],
      "metadata": {
        "colab": {
          "base_uri": "https://localhost:8080/"
        },
        "id": "q-OYJDfDzznc",
        "outputId": "4820b377-856f-4cf3-8253-b639b582e89d"
      },
      "execution_count": null,
      "outputs": [
        {
          "output_type": "execute_result",
          "data": {
            "text/plain": [
              "86"
            ]
          },
          "metadata": {},
          "execution_count": 70
        }
      ]
    },
    {
      "cell_type": "code",
      "execution_count": null,
      "metadata": {
        "id": "RP9I6fGHzYHQ",
        "outputId": "55e8ebe7-bcb6-4f20-9514-a84fffc5f746",
        "colab": {
          "base_uri": "https://localhost:8080/"
        }
      },
      "outputs": [
        {
          "output_type": "execute_result",
          "data": {
            "text/plain": [
              "range(2, 86, 2)"
            ]
          },
          "metadata": {},
          "execution_count": 71
        }
      ],
      "source": [
        "range(2,QTD_ATIVOS,2)"
      ]
    },
    {
      "cell_type": "code",
      "execution_count": null,
      "metadata": {
        "id": "KB4UqLfgzYHQ",
        "outputId": "620ab2bf-1387-4fca-dc82-af53b57c7144",
        "colab": {
          "base_uri": "https://localhost:8080/"
        }
      },
      "outputs": [
        {
          "output_type": "execute_result",
          "data": {
            "text/plain": [
              "[0.000335276927822045,\n",
              " 0.0003696114425568916,\n",
              " 0.00031844521201095403,\n",
              " 0.00034122094169352664,\n",
              " 0.000274532211843003,\n",
              " 0.00023786949934894927,\n",
              " 0.0002234216025768313,\n",
              " 0.0002454078244228102,\n",
              " 0.0002689316717992722,\n",
              " 0.0002325573780338614,\n",
              " 0.0002770490069964192,\n",
              " 0.00020965699327677714,\n",
              " 0.00021678751796345554,\n",
              " 0.00023506601136957203,\n",
              " 0.0002509713950376237,\n",
              " 0.0002890942285771696,\n",
              " 0.00023849172212414137,\n",
              " 0.00023927724699068477,\n",
              " 0.00021456993457419845,\n",
              " 0.00023685799077826673,\n",
              " 0.00023806761799865993,\n",
              " 0.00025135042157967266,\n",
              " 0.00022317824078821083,\n",
              " 0.00022518896324366232,\n",
              " 0.0002320565431248882,\n",
              " 0.00021093639952922516,\n",
              " 0.00024878625092157066,\n",
              " 0.00021217264979875183,\n",
              " 0.00021556299221893536,\n",
              " 0.00022080807244864446,\n",
              " 0.0002270501414247591,\n",
              " 0.00020994859670315282,\n",
              " 0.0002229853534318703,\n",
              " 0.00020794366109074425,\n",
              " 0.00020266346069920698,\n",
              " 0.00022940802983561129,\n",
              " 0.00021218731630750348,\n",
              " 0.00019430365475394778,\n",
              " 0.00019696993442346367,\n",
              " 0.00021585713602439912,\n",
              " 0.00019459957533377842,\n",
              " 0.00019821539664996858]"
            ]
          },
          "metadata": {},
          "execution_count": 72
        }
      ],
      "source": [
        "variancias"
      ]
    },
    {
      "cell_type": "code",
      "execution_count": null,
      "metadata": {
        "id": "K2PnTiBCzYHQ",
        "outputId": "eb2aab47-f3f8-4744-e5dc-06c0cb326ded",
        "colab": {
          "base_uri": "https://localhost:8080/",
          "height": 143
        }
      },
      "outputs": [
        {
          "output_type": "execute_result",
          "data": {
            "text/plain": [
              "          ABEV3     ALPA4     AMER3\n",
              "ABEV3  0.000346  0.000132  0.000171\n",
              "ALPA4  0.000132  0.000740  0.000361\n",
              "AMER3  0.000171  0.000361  0.001401"
            ],
            "text/html": [
              "\n",
              "  <div id=\"df-eb72bc85-3bbd-4cff-b479-f4051c49325c\">\n",
              "    <div class=\"colab-df-container\">\n",
              "      <div>\n",
              "<style scoped>\n",
              "    .dataframe tbody tr th:only-of-type {\n",
              "        vertical-align: middle;\n",
              "    }\n",
              "\n",
              "    .dataframe tbody tr th {\n",
              "        vertical-align: top;\n",
              "    }\n",
              "\n",
              "    .dataframe thead th {\n",
              "        text-align: right;\n",
              "    }\n",
              "</style>\n",
              "<table border=\"1\" class=\"dataframe\">\n",
              "  <thead>\n",
              "    <tr style=\"text-align: right;\">\n",
              "      <th></th>\n",
              "      <th>ABEV3</th>\n",
              "      <th>ALPA4</th>\n",
              "      <th>AMER3</th>\n",
              "    </tr>\n",
              "  </thead>\n",
              "  <tbody>\n",
              "    <tr>\n",
              "      <th>ABEV3</th>\n",
              "      <td>0.000346</td>\n",
              "      <td>0.000132</td>\n",
              "      <td>0.000171</td>\n",
              "    </tr>\n",
              "    <tr>\n",
              "      <th>ALPA4</th>\n",
              "      <td>0.000132</td>\n",
              "      <td>0.000740</td>\n",
              "      <td>0.000361</td>\n",
              "    </tr>\n",
              "    <tr>\n",
              "      <th>AMER3</th>\n",
              "      <td>0.000171</td>\n",
              "      <td>0.000361</td>\n",
              "      <td>0.001401</td>\n",
              "    </tr>\n",
              "  </tbody>\n",
              "</table>\n",
              "</div>\n",
              "      <button class=\"colab-df-convert\" onclick=\"convertToInteractive('df-eb72bc85-3bbd-4cff-b479-f4051c49325c')\"\n",
              "              title=\"Convert this dataframe to an interactive table.\"\n",
              "              style=\"display:none;\">\n",
              "        \n",
              "  <svg xmlns=\"http://www.w3.org/2000/svg\" height=\"24px\"viewBox=\"0 0 24 24\"\n",
              "       width=\"24px\">\n",
              "    <path d=\"M0 0h24v24H0V0z\" fill=\"none\"/>\n",
              "    <path d=\"M18.56 5.44l.94 2.06.94-2.06 2.06-.94-2.06-.94-.94-2.06-.94 2.06-2.06.94zm-11 1L8.5 8.5l.94-2.06 2.06-.94-2.06-.94L8.5 2.5l-.94 2.06-2.06.94zm10 10l.94 2.06.94-2.06 2.06-.94-2.06-.94-.94-2.06-.94 2.06-2.06.94z\"/><path d=\"M17.41 7.96l-1.37-1.37c-.4-.4-.92-.59-1.43-.59-.52 0-1.04.2-1.43.59L10.3 9.45l-7.72 7.72c-.78.78-.78 2.05 0 2.83L4 21.41c.39.39.9.59 1.41.59.51 0 1.02-.2 1.41-.59l7.78-7.78 2.81-2.81c.8-.78.8-2.07 0-2.86zM5.41 20L4 18.59l7.72-7.72 1.47 1.35L5.41 20z\"/>\n",
              "  </svg>\n",
              "      </button>\n",
              "      \n",
              "  <style>\n",
              "    .colab-df-container {\n",
              "      display:flex;\n",
              "      flex-wrap:wrap;\n",
              "      gap: 12px;\n",
              "    }\n",
              "\n",
              "    .colab-df-convert {\n",
              "      background-color: #E8F0FE;\n",
              "      border: none;\n",
              "      border-radius: 50%;\n",
              "      cursor: pointer;\n",
              "      display: none;\n",
              "      fill: #1967D2;\n",
              "      height: 32px;\n",
              "      padding: 0 0 0 0;\n",
              "      width: 32px;\n",
              "    }\n",
              "\n",
              "    .colab-df-convert:hover {\n",
              "      background-color: #E2EBFA;\n",
              "      box-shadow: 0px 1px 2px rgba(60, 64, 67, 0.3), 0px 1px 3px 1px rgba(60, 64, 67, 0.15);\n",
              "      fill: #174EA6;\n",
              "    }\n",
              "\n",
              "    [theme=dark] .colab-df-convert {\n",
              "      background-color: #3B4455;\n",
              "      fill: #D2E3FC;\n",
              "    }\n",
              "\n",
              "    [theme=dark] .colab-df-convert:hover {\n",
              "      background-color: #434B5C;\n",
              "      box-shadow: 0px 1px 3px 1px rgba(0, 0, 0, 0.15);\n",
              "      filter: drop-shadow(0px 1px 2px rgba(0, 0, 0, 0.3));\n",
              "      fill: #FFFFFF;\n",
              "    }\n",
              "  </style>\n",
              "\n",
              "      <script>\n",
              "        const buttonEl =\n",
              "          document.querySelector('#df-eb72bc85-3bbd-4cff-b479-f4051c49325c button.colab-df-convert');\n",
              "        buttonEl.style.display =\n",
              "          google.colab.kernel.accessAllowed ? 'block' : 'none';\n",
              "\n",
              "        async function convertToInteractive(key) {\n",
              "          const element = document.querySelector('#df-eb72bc85-3bbd-4cff-b479-f4051c49325c');\n",
              "          const dataTable =\n",
              "            await google.colab.kernel.invokeFunction('convertToInteractive',\n",
              "                                                     [key], {});\n",
              "          if (!dataTable) return;\n",
              "\n",
              "          const docLinkHtml = 'Like what you see? Visit the ' +\n",
              "            '<a target=\"_blank\" href=https://colab.research.google.com/notebooks/data_table.ipynb>data table notebook</a>'\n",
              "            + ' to learn more about interactive tables.';\n",
              "          element.innerHTML = '';\n",
              "          dataTable['output_type'] = 'display_data';\n",
              "          await google.colab.output.renderOutput(dataTable, element);\n",
              "          const docLink = document.createElement('div');\n",
              "          docLink.innerHTML = docLinkHtml;\n",
              "          element.appendChild(docLink);\n",
              "        }\n",
              "      </script>\n",
              "    </div>\n",
              "  </div>\n",
              "  "
            ]
          },
          "metadata": {},
          "execution_count": 73
        }
      ],
      "source": [
        "retornos[ativos[:3]].cov()"
      ]
    },
    {
      "cell_type": "code",
      "execution_count": null,
      "metadata": {
        "id": "gbGfLosKzYHR",
        "outputId": "af90be8a-8b10-42c9-96a5-2c48c2ba3265",
        "colab": {
          "base_uri": "https://localhost:8080/",
          "height": 574
        }
      },
      "outputs": [
        {
          "output_type": "display_data",
          "data": {
            "text/plain": [
              "<Figure size 1200x600 with 1 Axes>"
            ],
            "image/png": "[encoded data removed]"
          },
          "metadata": {}
        }
      ],
      "source": [
        "import matplotlib.pyplot as plt\n",
        "fig = plt.figure(figsize = (12,6))\n",
        "ax1 = fig.add_axes([0.1,0.1,0.8,0.8])\n",
        "ax1.plot(range(2,QTD_ATIVOS,2),variancias, linewidth = 4,label=\"Renda Variável\")\n",
        "ax1.set_xlabel('Quantidade de ativos', fontsize=20)\n",
        "ax1.set_ylabel(\"Variância do portólio\", fontsize=20)\n",
        "plt.rc('xtick', labelsize=15)\n",
        "plt.rc('ytick', labelsize=20)\n",
        "plt.show();"
      ]
    },
    {
      "cell_type": "code",
      "execution_count": null,
      "metadata": {
        "id": "KB3v2lpizYHS"
      },
      "outputs": [],
      "source": []
    }
  ],
  "metadata": {
    "colab": {
      "provenance": [],
      "include_colab_link": true
    },
    "kernelspec": {
      "display_name": "Python 3",
      "language": "python",
      "name": "python3"
    },
    "language_info": {
      "codemirror_mode": {
        "name": "ipython",
        "version": 3
      },
      "file_extension": ".py",
      "mimetype": "text/x-python",
      "name": "python",
      "nbconvert_exporter": "python",
      "pygments_lexer": "ipython3",
      "version": "3.7.1"
    }
  },
  "nbformat": 4,
  "nbformat_minor": 0
}