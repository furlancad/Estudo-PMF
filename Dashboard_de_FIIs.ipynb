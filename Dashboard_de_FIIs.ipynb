{
  "cells": [
    {
      "cell_type": "markdown",
      "metadata": {
        "id": "view-in-github",
        "colab_type": "text"
      },
      "source": [
        "<a href=\"https://colab.research.google.com/github/furlancad/Estudo-PMF/blob/main/Dashboard_de_FIIs.ipynb\" target=\"_parent\"><img src=\"https://colab.research.google.com/assets/colab-badge.svg\" alt=\"Open In Colab\"/></a>"
      ]
    },
    {
      "cell_type": "markdown",
      "metadata": {
        "id": "g0pknEP-4LcA"
      },
      "source": [
        "<img src = \"https://github.com/Trading-com-Dados/pmf/blob/main/logotipo-trading-com-dados.svg?raw=true\" width = \"300\">"
      ]
    },
    {
      "cell_type": "markdown",
      "metadata": {
        "id": "qwJvG1K94LcD"
      },
      "source": [
        "---"
      ]
    },
    {
      "cell_type": "markdown",
      "metadata": {
        "id": "uRutHKxf4LcE"
      },
      "source": [
        "# **Obtenção e análise de dados de FIIs e criação de dashboard para tomada de decisão de investimento**"
      ]
    },
    {
      "cell_type": "code",
      "execution_count": null,
      "metadata": {
        "id": "iDtCmlkyYnVm"
      },
      "outputs": [],
      "source": [
        "import pandas as pd\n",
        "\n",
        "\n",
        "from selenium import webdriver\n",
        "from selenium.webdriver.common.by import By\n",
        "from selenium.webdriver.support.ui import Select\n",
        "\n",
        "import matplotlib.pyplot as plt\n",
        "import vizro.plotly.express as px\n",
        "from vizro import Vizro\n",
        "import vizro.models as vm\n",
        "\n",
        "import yfinance as yf"
      ]
    },
    {
      "cell_type": "markdown",
      "metadata": {
        "id": "PXKb__zu4LcG"
      },
      "source": [
        "# **Iniciar o crawling**"
      ]
    },
    {
      "cell_type": "code",
      "execution_count": null,
      "metadata": {
        "id": "va-g-Bcf4LcG"
      },
      "outputs": [],
      "source": [
        "driver = webdriver.Chrome()"
      ]
    },
    {
      "cell_type": "markdown",
      "metadata": {
        "id": "OtndUtWC4LcG"
      },
      "source": [
        "Vamos utilizar este site: https://www.fundsexplorer.com.br/ranking"
      ]
    },
    {
      "cell_type": "code",
      "execution_count": null,
      "metadata": {
        "id": "ieS4twpL4LcH"
      },
      "outputs": [],
      "source": [
        "driver.get('https://www.fundsexplorer.com.br/ranking')"
      ]
    },
    {
      "cell_type": "markdown",
      "metadata": {
        "id": "4ruTTvwh4LcH"
      },
      "source": [
        "# **Extração da tabela original**"
      ]
    },
    {
      "cell_type": "code",
      "execution_count": null,
      "metadata": {
        "id": "F3QDBntX4LcH",
        "outputId": "fb9b9ac6-27d8-4c81-aa65-0fcdc78a0099"
      },
      "outputs": [
        {
          "data": {
            "text/plain": [
              "<selenium.webdriver.remote.webelement.WebElement (session=\"82a5e7d5b3ad553eae55a1ca51a7cb35\", element=\"3BB5FF15640A9359DF1882BC15E0E565_element_277\")>"
            ]
          },
          "execution_count": 4,
          "metadata": {},
          "output_type": "execute_result"
        }
      ],
      "source": [
        "driver.find_element(By.XPATH,'//*[@id=\"upTo--default-fiis-table\"]/div/table')"
      ]
    },
    {
      "cell_type": "code",
      "execution_count": null,
      "metadata": {
        "id": "uLCx3NJC4LcI"
      },
      "outputs": [],
      "source": [
        "tb_din = driver.find_element(By.XPATH,'//*[@id=\"upTo--default-fiis-table\"]/div/table').get_attribute('outerHTML')"
      ]
    },
    {
      "cell_type": "code",
      "execution_count": null,
      "metadata": {
        "id": "pOx3re9N4LcJ"
      },
      "outputs": [],
      "source": [
        "fiis = pd.read_html(tb_din, decimal = ',', thousands = '.')[0]"
      ]
    },
    {
      "cell_type": "markdown",
      "metadata": {
        "id": "SW485Kic4LcJ"
      },
      "source": [
        "**Manipulação dos dados**"
      ]
    },
    {
      "cell_type": "code",
      "execution_count": null,
      "metadata": {
        "id": "vtrpSkR84LcJ",
        "outputId": "f7b68977-f2ca-45a6-e8ba-9902ddfaf47e"
      },
      "outputs": [
        {
          "data": {
            "text/plain": [
              "(438, 8)"
            ]
          },
          "execution_count": 12,
          "metadata": {},
          "output_type": "execute_result"
        }
      ],
      "source": [
        "fiis.shape"
      ]
    },
    {
      "cell_type": "code",
      "execution_count": null,
      "metadata": {
        "id": "js3HnZsD4LcJ",
        "outputId": "fca8cbd6-8fe5-4c16-e8ba-0bb9d81f5812"
      },
      "outputs": [
        {
          "data": {
            "text/html": [
              "<div>\n",
              "<style scoped>\n",
              "    .dataframe tbody tr th:only-of-type {\n",
              "        vertical-align: middle;\n",
              "    }\n",
              "\n",
              "    .dataframe tbody tr th {\n",
              "        vertical-align: top;\n",
              "    }\n",
              "\n",
              "    .dataframe thead th {\n",
              "        text-align: right;\n",
              "    }\n",
              "</style>\n",
              "<table border=\"1\" class=\"dataframe\">\n",
              "  <thead>\n",
              "    <tr style=\"text-align: right;\">\n",
              "      <th></th>\n",
              "      <th>Fundos</th>\n",
              "      <th>Setor</th>\n",
              "      <th>Liquidez Diária (R$)</th>\n",
              "      <th>P/VP</th>\n",
              "      <th>Dividend Yield</th>\n",
              "      <th>Variação Preço</th>\n",
              "      <th>Patrimônio Líquido</th>\n",
              "      <th>Num. Cotistas</th>\n",
              "    </tr>\n",
              "  </thead>\n",
              "  <tbody>\n",
              "    <tr>\n",
              "      <th>0</th>\n",
              "      <td>AAZQ11</td>\n",
              "      <td>Indefinido</td>\n",
              "      <td>1028256.82</td>\n",
              "      <td>0.95</td>\n",
              "      <td>1,32 %</td>\n",
              "      <td>0,00 %</td>\n",
              "      <td>2.318222e+08</td>\n",
              "      <td>23739</td>\n",
              "    </tr>\n",
              "    <tr>\n",
              "      <th>1</th>\n",
              "      <td>ABCP11</td>\n",
              "      <td>Shoppings</td>\n",
              "      <td>71149.79</td>\n",
              "      <td>0.73</td>\n",
              "      <td>0,93 %</td>\n",
              "      <td>0,52 %</td>\n",
              "      <td>4.326774e+08</td>\n",
              "      <td>17274</td>\n",
              "    </tr>\n",
              "    <tr>\n",
              "      <th>2</th>\n",
              "      <td>AFHI11</td>\n",
              "      <td>Papéis</td>\n",
              "      <td>916803.21</td>\n",
              "      <td>1.04</td>\n",
              "      <td>0,00 %</td>\n",
              "      <td>0,00 %</td>\n",
              "      <td>3.210416e+08</td>\n",
              "      <td>27831</td>\n",
              "    </tr>\n",
              "    <tr>\n",
              "      <th>3</th>\n",
              "      <td>AGRX11</td>\n",
              "      <td>Outros</td>\n",
              "      <td>521008.43</td>\n",
              "      <td>NaN</td>\n",
              "      <td>1,37 %</td>\n",
              "      <td>-0,99 %</td>\n",
              "      <td>NaN</td>\n",
              "      <td>0</td>\n",
              "    </tr>\n",
              "    <tr>\n",
              "      <th>4</th>\n",
              "      <td>AIEC11</td>\n",
              "      <td>Lajes Corporativas</td>\n",
              "      <td>834865.86</td>\n",
              "      <td>0.67</td>\n",
              "      <td>2,33 %</td>\n",
              "      <td>1,91 %</td>\n",
              "      <td>4.012162e+08</td>\n",
              "      <td>16789</td>\n",
              "    </tr>\n",
              "  </tbody>\n",
              "</table>\n",
              "</div>"
            ],
            "text/plain": [
              "   Fundos               Setor  Liquidez Diária (R$)  P/VP Dividend Yield  \\\n",
              "0  AAZQ11          Indefinido            1028256.82  0.95         1,32 %   \n",
              "1  ABCP11           Shoppings              71149.79  0.73         0,93 %   \n",
              "2  AFHI11              Papéis             916803.21  1.04         0,00 %   \n",
              "3  AGRX11              Outros             521008.43   NaN         1,37 %   \n",
              "4  AIEC11  Lajes Corporativas             834865.86  0.67         2,33 %   \n",
              "\n",
              "  Variação Preço  Patrimônio Líquido  Num. Cotistas  \n",
              "0         0,00 %        2.318222e+08          23739  \n",
              "1         0,52 %        4.326774e+08          17274  \n",
              "2         0,00 %        3.210416e+08          27831  \n",
              "3        -0,99 %                 NaN              0  \n",
              "4         1,91 %        4.012162e+08          16789  "
            ]
          },
          "execution_count": 13,
          "metadata": {},
          "output_type": "execute_result"
        }
      ],
      "source": [
        "fiis.head()"
      ]
    },
    {
      "cell_type": "code",
      "execution_count": null,
      "metadata": {
        "id": "-NJShTh64LcK"
      },
      "outputs": [],
      "source": [
        "fiis = fiis.replace({',':'.', '%':''}, regex = True)"
      ]
    },
    {
      "cell_type": "code",
      "execution_count": null,
      "metadata": {
        "id": "FJSHWBT74LcK"
      },
      "outputs": [],
      "source": [
        "fiis[['Dividend Yield', 'Variação Preço']] = fiis[['Dividend Yield', 'Variação Preço']].apply(pd.to_numeric)"
      ]
    },
    {
      "cell_type": "code",
      "execution_count": null,
      "metadata": {
        "id": "BA7cbi654LcK",
        "outputId": "84c0e2c6-c53d-422d-c274-c1ca9947d456"
      },
      "outputs": [
        {
          "data": {
            "text/plain": [
              "Fundos                   object\n",
              "Setor                    object\n",
              "Liquidez Diária (R$)    float64\n",
              "P/VP                    float64\n",
              "Dividend Yield          float64\n",
              "Variação Preço          float64\n",
              "Patrimônio Líquido      float64\n",
              "Num. Cotistas             int64\n",
              "dtype: object"
            ]
          },
          "execution_count": 19,
          "metadata": {},
          "output_type": "execute_result"
        }
      ],
      "source": [
        "fiis.dtypes"
      ]
    },
    {
      "cell_type": "code",
      "execution_count": null,
      "metadata": {
        "id": "X8T91OGA4LcK"
      },
      "outputs": [],
      "source": [
        "fiis = fiis.set_index('Fundos')"
      ]
    },
    {
      "cell_type": "code",
      "execution_count": null,
      "metadata": {
        "id": "oS7n554J4LcK",
        "outputId": "9a5961a5-4b74-4cef-c301-21c033e7b85e"
      },
      "outputs": [
        {
          "data": {
            "text/html": [
              "<div>\n",
              "<style scoped>\n",
              "    .dataframe tbody tr th:only-of-type {\n",
              "        vertical-align: middle;\n",
              "    }\n",
              "\n",
              "    .dataframe tbody tr th {\n",
              "        vertical-align: top;\n",
              "    }\n",
              "\n",
              "    .dataframe thead th {\n",
              "        text-align: right;\n",
              "    }\n",
              "</style>\n",
              "<table border=\"1\" class=\"dataframe\">\n",
              "  <thead>\n",
              "    <tr style=\"text-align: right;\">\n",
              "      <th></th>\n",
              "      <th>Setor</th>\n",
              "      <th>Liquidez Diária (R$)</th>\n",
              "      <th>P/VP</th>\n",
              "      <th>Dividend Yield</th>\n",
              "      <th>Variação Preço</th>\n",
              "      <th>Patrimônio Líquido</th>\n",
              "      <th>Num. Cotistas</th>\n",
              "    </tr>\n",
              "    <tr>\n",
              "      <th>Fundos</th>\n",
              "      <th></th>\n",
              "      <th></th>\n",
              "      <th></th>\n",
              "      <th></th>\n",
              "      <th></th>\n",
              "      <th></th>\n",
              "      <th></th>\n",
              "    </tr>\n",
              "  </thead>\n",
              "  <tbody>\n",
              "    <tr>\n",
              "      <th>AAZQ11</th>\n",
              "      <td>Indefinido</td>\n",
              "      <td>1028256.82</td>\n",
              "      <td>0.95</td>\n",
              "      <td>1.32</td>\n",
              "      <td>0.00</td>\n",
              "      <td>2.318222e+08</td>\n",
              "      <td>23739</td>\n",
              "    </tr>\n",
              "    <tr>\n",
              "      <th>ABCP11</th>\n",
              "      <td>Shoppings</td>\n",
              "      <td>71149.79</td>\n",
              "      <td>0.73</td>\n",
              "      <td>0.93</td>\n",
              "      <td>0.52</td>\n",
              "      <td>4.326774e+08</td>\n",
              "      <td>17274</td>\n",
              "    </tr>\n",
              "    <tr>\n",
              "      <th>AFHI11</th>\n",
              "      <td>Papéis</td>\n",
              "      <td>916803.21</td>\n",
              "      <td>1.04</td>\n",
              "      <td>0.00</td>\n",
              "      <td>0.00</td>\n",
              "      <td>3.210416e+08</td>\n",
              "      <td>27831</td>\n",
              "    </tr>\n",
              "    <tr>\n",
              "      <th>AGRX11</th>\n",
              "      <td>Outros</td>\n",
              "      <td>521008.43</td>\n",
              "      <td>NaN</td>\n",
              "      <td>1.37</td>\n",
              "      <td>-0.99</td>\n",
              "      <td>NaN</td>\n",
              "      <td>0</td>\n",
              "    </tr>\n",
              "    <tr>\n",
              "      <th>AIEC11</th>\n",
              "      <td>Lajes Corporativas</td>\n",
              "      <td>834865.86</td>\n",
              "      <td>0.67</td>\n",
              "      <td>2.33</td>\n",
              "      <td>1.91</td>\n",
              "      <td>4.012162e+08</td>\n",
              "      <td>16789</td>\n",
              "    </tr>\n",
              "    <tr>\n",
              "      <th>...</th>\n",
              "      <td>...</td>\n",
              "      <td>...</td>\n",
              "      <td>...</td>\n",
              "      <td>...</td>\n",
              "      <td>...</td>\n",
              "      <td>...</td>\n",
              "      <td>...</td>\n",
              "    </tr>\n",
              "    <tr>\n",
              "      <th>XTED11</th>\n",
              "      <td>Lajes Corporativas</td>\n",
              "      <td>17641.88</td>\n",
              "      <td>0.68</td>\n",
              "      <td>NaN</td>\n",
              "      <td>NaN</td>\n",
              "      <td>6.737820e+07</td>\n",
              "      <td>4098</td>\n",
              "    </tr>\n",
              "    <tr>\n",
              "      <th>YUFI11</th>\n",
              "      <td>Fundo de Desenvolvimento</td>\n",
              "      <td>255.00</td>\n",
              "      <td>0.78</td>\n",
              "      <td>0.00</td>\n",
              "      <td>0.00</td>\n",
              "      <td>5.038388e+07</td>\n",
              "      <td>60</td>\n",
              "    </tr>\n",
              "    <tr>\n",
              "      <th>YUFI11B</th>\n",
              "      <td>Indefinido</td>\n",
              "      <td>NaN</td>\n",
              "      <td>NaN</td>\n",
              "      <td>0.00</td>\n",
              "      <td>0.00</td>\n",
              "      <td>NaN</td>\n",
              "      <td>0</td>\n",
              "    </tr>\n",
              "    <tr>\n",
              "      <th>ZAVI11</th>\n",
              "      <td>Indefinido</td>\n",
              "      <td>345471.11</td>\n",
              "      <td>0.95</td>\n",
              "      <td>0.99</td>\n",
              "      <td>-1.51</td>\n",
              "      <td>1.569596e+08</td>\n",
              "      <td>5007</td>\n",
              "    </tr>\n",
              "    <tr>\n",
              "      <th>ZIFI11</th>\n",
              "      <td>Fundo de Desenvolvimento</td>\n",
              "      <td>40094.06</td>\n",
              "      <td>0.67</td>\n",
              "      <td>0.00</td>\n",
              "      <td>0.00</td>\n",
              "      <td>5.700706e+07</td>\n",
              "      <td>69</td>\n",
              "    </tr>\n",
              "  </tbody>\n",
              "</table>\n",
              "<p>438 rows × 7 columns</p>\n",
              "</div>"
            ],
            "text/plain": [
              "                            Setor  Liquidez Diária (R$)  P/VP  Dividend Yield  \\\n",
              "Fundos                                                                          \n",
              "AAZQ11                 Indefinido            1028256.82  0.95            1.32   \n",
              "ABCP11                  Shoppings              71149.79  0.73            0.93   \n",
              "AFHI11                     Papéis             916803.21  1.04            0.00   \n",
              "AGRX11                     Outros             521008.43   NaN            1.37   \n",
              "AIEC11         Lajes Corporativas             834865.86  0.67            2.33   \n",
              "...                           ...                   ...   ...             ...   \n",
              "XTED11         Lajes Corporativas              17641.88  0.68             NaN   \n",
              "YUFI11   Fundo de Desenvolvimento                255.00  0.78            0.00   \n",
              "YUFI11B                Indefinido                   NaN   NaN            0.00   \n",
              "ZAVI11                 Indefinido             345471.11  0.95            0.99   \n",
              "ZIFI11   Fundo de Desenvolvimento              40094.06  0.67            0.00   \n",
              "\n",
              "         Variação Preço  Patrimônio Líquido  Num. Cotistas  \n",
              "Fundos                                                      \n",
              "AAZQ11             0.00        2.318222e+08          23739  \n",
              "ABCP11             0.52        4.326774e+08          17274  \n",
              "AFHI11             0.00        3.210416e+08          27831  \n",
              "AGRX11            -0.99                 NaN              0  \n",
              "AIEC11             1.91        4.012162e+08          16789  \n",
              "...                 ...                 ...            ...  \n",
              "XTED11              NaN        6.737820e+07           4098  \n",
              "YUFI11             0.00        5.038388e+07             60  \n",
              "YUFI11B            0.00                 NaN              0  \n",
              "ZAVI11            -1.51        1.569596e+08           5007  \n",
              "ZIFI11             0.00        5.700706e+07             69  \n",
              "\n",
              "[438 rows x 7 columns]"
            ]
          },
          "execution_count": 21,
          "metadata": {},
          "output_type": "execute_result"
        }
      ],
      "source": [
        "fiis"
      ]
    },
    {
      "cell_type": "code",
      "execution_count": null,
      "metadata": {
        "id": "bAC8vxWk4LcK"
      },
      "outputs": [],
      "source": [
        "fiis.fillna(0, inplace = True)"
      ]
    },
    {
      "cell_type": "code",
      "execution_count": null,
      "metadata": {
        "id": "Cjw5dzBH4LcK"
      },
      "outputs": [],
      "source": [
        "fiis['FII'] = fiis.index\n",
        "fiis['Setor'] = fiis['Setor'].astype(str)"
      ]
    },
    {
      "cell_type": "code",
      "execution_count": null,
      "metadata": {
        "id": "Dw031TzG4LcK",
        "outputId": "dcbff362-0f98-4004-d3a2-597545304d84"
      },
      "outputs": [
        {
          "data": {
            "text/html": [
              "<div>\n",
              "<style scoped>\n",
              "    .dataframe tbody tr th:only-of-type {\n",
              "        vertical-align: middle;\n",
              "    }\n",
              "\n",
              "    .dataframe tbody tr th {\n",
              "        vertical-align: top;\n",
              "    }\n",
              "\n",
              "    .dataframe thead th {\n",
              "        text-align: right;\n",
              "    }\n",
              "</style>\n",
              "<table border=\"1\" class=\"dataframe\">\n",
              "  <thead>\n",
              "    <tr style=\"text-align: right;\">\n",
              "      <th></th>\n",
              "      <th>Setor</th>\n",
              "      <th>Liquidez Diária (R$)</th>\n",
              "      <th>P/VP</th>\n",
              "      <th>Dividend Yield</th>\n",
              "      <th>Variação Preço</th>\n",
              "      <th>Patrimônio Líquido</th>\n",
              "      <th>Num. Cotistas</th>\n",
              "      <th>FII</th>\n",
              "    </tr>\n",
              "    <tr>\n",
              "      <th>Fundos</th>\n",
              "      <th></th>\n",
              "      <th></th>\n",
              "      <th></th>\n",
              "      <th></th>\n",
              "      <th></th>\n",
              "      <th></th>\n",
              "      <th></th>\n",
              "      <th></th>\n",
              "    </tr>\n",
              "  </thead>\n",
              "  <tbody>\n",
              "    <tr>\n",
              "      <th>PRTS11</th>\n",
              "      <td>Shoppings</td>\n",
              "      <td>0.00</td>\n",
              "      <td>1961.67</td>\n",
              "      <td>0.00</td>\n",
              "      <td>0.00</td>\n",
              "      <td>3.111607e+06</td>\n",
              "      <td>11</td>\n",
              "      <td>PRTS11</td>\n",
              "    </tr>\n",
              "    <tr>\n",
              "      <th>SRVD11</th>\n",
              "      <td>Indefinido</td>\n",
              "      <td>233.91</td>\n",
              "      <td>583.00</td>\n",
              "      <td>2.29</td>\n",
              "      <td>-9.79</td>\n",
              "      <td>-8.340963e+05</td>\n",
              "      <td>106</td>\n",
              "      <td>SRVD11</td>\n",
              "    </tr>\n",
              "    <tr>\n",
              "      <th>IBFF11</th>\n",
              "      <td>Fundo de Fundos</td>\n",
              "      <td>162549.50</td>\n",
              "      <td>4.49</td>\n",
              "      <td>0.00</td>\n",
              "      <td>0.00</td>\n",
              "      <td>9.855905e+06</td>\n",
              "      <td>3870</td>\n",
              "      <td>IBFF11</td>\n",
              "    </tr>\n",
              "    <tr>\n",
              "      <th>RBRM11</th>\n",
              "      <td>Fundo de Desenvolvimento</td>\n",
              "      <td>0.00</td>\n",
              "      <td>3.63</td>\n",
              "      <td>0.00</td>\n",
              "      <td>0.00</td>\n",
              "      <td>1.409052e+07</td>\n",
              "      <td>54</td>\n",
              "      <td>RBRM11</td>\n",
              "    </tr>\n",
              "    <tr>\n",
              "      <th>LOFT11B</th>\n",
              "      <td>Fundo de Desenvolvimento</td>\n",
              "      <td>0.00</td>\n",
              "      <td>2.98</td>\n",
              "      <td>0.00</td>\n",
              "      <td>0.00</td>\n",
              "      <td>1.966339e+07</td>\n",
              "      <td>1</td>\n",
              "      <td>LOFT11B</td>\n",
              "    </tr>\n",
              "    <tr>\n",
              "      <th>...</th>\n",
              "      <td>...</td>\n",
              "      <td>...</td>\n",
              "      <td>...</td>\n",
              "      <td>...</td>\n",
              "      <td>...</td>\n",
              "      <td>...</td>\n",
              "      <td>...</td>\n",
              "      <td>...</td>\n",
              "    </tr>\n",
              "    <tr>\n",
              "      <th>CPFO11</th>\n",
              "      <td>Fundo de Fundos</td>\n",
              "      <td>0.00</td>\n",
              "      <td>0.00</td>\n",
              "      <td>0.00</td>\n",
              "      <td>0.00</td>\n",
              "      <td>9.050911e+07</td>\n",
              "      <td>528</td>\n",
              "      <td>CPFO11</td>\n",
              "    </tr>\n",
              "    <tr>\n",
              "      <th>CPTI11</th>\n",
              "      <td>Fundo de Desenvolvimento</td>\n",
              "      <td>1350525.00</td>\n",
              "      <td>0.00</td>\n",
              "      <td>1.00</td>\n",
              "      <td>1.79</td>\n",
              "      <td>0.000000e+00</td>\n",
              "      <td>0</td>\n",
              "      <td>CPTI11</td>\n",
              "    </tr>\n",
              "    <tr>\n",
              "      <th>PPEI11</th>\n",
              "      <td>0</td>\n",
              "      <td>405058.07</td>\n",
              "      <td>0.00</td>\n",
              "      <td>4.40</td>\n",
              "      <td>4.99</td>\n",
              "      <td>0.000000e+00</td>\n",
              "      <td>0</td>\n",
              "      <td>PPEI11</td>\n",
              "    </tr>\n",
              "    <tr>\n",
              "      <th>VJFD11</th>\n",
              "      <td>Papéis</td>\n",
              "      <td>0.00</td>\n",
              "      <td>0.00</td>\n",
              "      <td>0.00</td>\n",
              "      <td>0.00</td>\n",
              "      <td>6.644828e+08</td>\n",
              "      <td>97</td>\n",
              "      <td>VJFD11</td>\n",
              "    </tr>\n",
              "    <tr>\n",
              "      <th>KDIF11</th>\n",
              "      <td>Fundo de Desenvolvimento</td>\n",
              "      <td>2174663.54</td>\n",
              "      <td>0.00</td>\n",
              "      <td>0.79</td>\n",
              "      <td>3.49</td>\n",
              "      <td>0.000000e+00</td>\n",
              "      <td>0</td>\n",
              "      <td>KDIF11</td>\n",
              "    </tr>\n",
              "  </tbody>\n",
              "</table>\n",
              "<p>438 rows × 8 columns</p>\n",
              "</div>"
            ],
            "text/plain": [
              "                            Setor  Liquidez Diária (R$)     P/VP  \\\n",
              "Fundos                                                             \n",
              "PRTS11                  Shoppings                  0.00  1961.67   \n",
              "SRVD11                 Indefinido                233.91   583.00   \n",
              "IBFF11            Fundo de Fundos             162549.50     4.49   \n",
              "RBRM11   Fundo de Desenvolvimento                  0.00     3.63   \n",
              "LOFT11B  Fundo de Desenvolvimento                  0.00     2.98   \n",
              "...                           ...                   ...      ...   \n",
              "CPFO11            Fundo de Fundos                  0.00     0.00   \n",
              "CPTI11   Fundo de Desenvolvimento            1350525.00     0.00   \n",
              "PPEI11                          0             405058.07     0.00   \n",
              "VJFD11                     Papéis                  0.00     0.00   \n",
              "KDIF11   Fundo de Desenvolvimento            2174663.54     0.00   \n",
              "\n",
              "         Dividend Yield  Variação Preço  Patrimônio Líquido  Num. Cotistas  \\\n",
              "Fundos                                                                       \n",
              "PRTS11             0.00            0.00        3.111607e+06             11   \n",
              "SRVD11             2.29           -9.79       -8.340963e+05            106   \n",
              "IBFF11             0.00            0.00        9.855905e+06           3870   \n",
              "RBRM11             0.00            0.00        1.409052e+07             54   \n",
              "LOFT11B            0.00            0.00        1.966339e+07              1   \n",
              "...                 ...             ...                 ...            ...   \n",
              "CPFO11             0.00            0.00        9.050911e+07            528   \n",
              "CPTI11             1.00            1.79        0.000000e+00              0   \n",
              "PPEI11             4.40            4.99        0.000000e+00              0   \n",
              "VJFD11             0.00            0.00        6.644828e+08             97   \n",
              "KDIF11             0.79            3.49        0.000000e+00              0   \n",
              "\n",
              "             FII  \n",
              "Fundos            \n",
              "PRTS11    PRTS11  \n",
              "SRVD11    SRVD11  \n",
              "IBFF11    IBFF11  \n",
              "RBRM11    RBRM11  \n",
              "LOFT11B  LOFT11B  \n",
              "...          ...  \n",
              "CPFO11    CPFO11  \n",
              "CPTI11    CPTI11  \n",
              "PPEI11    PPEI11  \n",
              "VJFD11    VJFD11  \n",
              "KDIF11    KDIF11  \n",
              "\n",
              "[438 rows x 8 columns]"
            ]
          },
          "execution_count": 24,
          "metadata": {},
          "output_type": "execute_result"
        }
      ],
      "source": [
        "fiis.sort_values('P/VP', ascending = False)"
      ]
    },
    {
      "cell_type": "markdown",
      "metadata": {
        "id": "yRs2B9sP4LcL"
      },
      "source": [
        "# **Criação do Dashboard de FIIs**"
      ]
    },
    {
      "cell_type": "code",
      "execution_count": null,
      "metadata": {
        "id": "6GTmm1Yv4LcL",
        "outputId": "3a19da46-65db-4f70-c8d5-efb48c83de38"
      },
      "outputs": [
        {
          "data": {
            "text/html": [
              "\n",
              "        <iframe\n",
              "            width=\"100%\"\n",
              "            height=\"650\"\n",
              "            src=\"http://127.0.0.1:8050/\"\n",
              "            frameborder=\"0\"\n",
              "            allowfullscreen\n",
              "            \n",
              "        ></iframe>\n",
              "        "
            ],
            "text/plain": [
              "<IPython.lib.display.IFrame at 0x201bc503250>"
            ]
          },
          "metadata": {},
          "output_type": "display_data"
        }
      ],
      "source": [
        "page = vm.Page(\n",
        "    title = 'Dashboard de FIIs',\n",
        "    components = [\n",
        "        vm.Graph(id = 'scatter_dy', figure = px.scatter(fiis, x ='Num. Cotistas' , y ='Dividend Yield', color = 'Setor')),\n",
        "        vm.Graph(id = 'bar_pvp', figure = px.bar(fiis, x ='FII' , y ='P/VP', color = 'Setor')),\n",
        "        vm.Graph(id = 'bar_patliq', figure = px.bar(fiis, x ='FII' , y ='Patrimônio Líquido', color = 'Setor')),\n",
        "\n",
        "\n",
        "    ],\n",
        "\n",
        "    controls = [\n",
        "        vm.Filter(column = 'Setor'),\n",
        "        vm.Filter(column = 'Liquidez Diária (R$)', selector = vm.RangeSlider()),\n",
        "        vm.Filter(column = 'Dividend Yield', selector = vm.RangeSlider()),\n",
        "        vm.Filter(column = 'Num. Cotistas', selector = vm.RangeSlider())\n",
        "\n",
        "\n",
        "    ]\n",
        "\n",
        "\n",
        ")\n",
        "\n",
        "dashboard = vm.Dashboard(pages = [page])\n",
        "\n",
        "Vizro().build(dashboard).run()"
      ]
    },
    {
      "cell_type": "code",
      "execution_count": null,
      "metadata": {
        "id": "Jd3Cj9pl4LcL"
      },
      "outputs": [],
      "source": []
    }
  ],
  "metadata": {
    "colab": {
      "provenance": [],
      "include_colab_link": true
    },
    "kernelspec": {
      "display_name": "Python 3 (ipykernel)",
      "language": "python",
      "name": "python3"
    },
    "language_info": {
      "codemirror_mode": {
        "name": "ipython",
        "version": 3
      },
      "file_extension": ".py",
      "mimetype": "text/x-python",
      "name": "python",
      "nbconvert_exporter": "python",
      "pygments_lexer": "ipython3",
      "version": "3.11.4"
    }
  },
  "nbformat": 4,
  "nbformat_minor": 0
}